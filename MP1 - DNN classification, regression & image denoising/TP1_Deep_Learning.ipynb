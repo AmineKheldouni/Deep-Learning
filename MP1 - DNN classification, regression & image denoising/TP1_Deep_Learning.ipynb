{
  "nbformat": 4,
  "nbformat_minor": 0,
  "metadata": {
    "colab": {
      "name": "TP1 Deep Learning.ipynb",
      "version": "0.3.2",
      "provenance": [],
      "collapsed_sections": []
    },
    "kernelspec": {
      "name": "python3",
      "display_name": "Python 3"
    }
  },
  "cells": [
    {
      "metadata": {
        "id": "kpbQJbe3i6ba",
        "colab_type": "code",
        "colab": {
          "base_uri": "https://localhost:8080/",
          "height": 34
        },
        "outputId": "8829b2f5-7ee7-41d8-c240-9a867b12da64"
      },
      "cell_type": "code",
      "source": [
        "import matplotlib.pyplot as plt\n",
        "%matplotlib inline\n",
        "import numpy as np\n",
        "import keras.utils as np_utils\n",
        "# On some implementations of matplotlib, you may need to change this value\n",
        "IMAGE_SIZE = 72"
      ],
      "execution_count": 1,
      "outputs": [
        {
          "output_type": "stream",
          "text": [
            "Using TensorFlow backend.\n"
          ],
          "name": "stderr"
        }
      ]
    },
    {
      "metadata": {
        "id": "I5XWRO0ajNk5",
        "colab_type": "code",
        "colab": {}
      },
      "cell_type": "code",
      "source": [
        "\n",
        "def generate_a_drawing(figsize, U, V, noise=0.0):\n",
        "    fig = plt.figure(figsize=(figsize,figsize))\n",
        "    ax = plt.subplot(111)\n",
        "    plt.axis('Off')\n",
        "    ax.set_xlim(0,figsize)\n",
        "    ax.set_ylim(0,figsize)\n",
        "    ax.fill(U, V, \"k\")\n",
        "    fig.canvas.draw()\n",
        "    imdata = np.frombuffer(fig.canvas.tostring_rgb(), dtype=np.uint8)[::3].astype(np.float32)\n",
        "    imdata = imdata + noise * np.random.random(imdata.size)\n",
        "    plt.close(fig)\n",
        "    return imdata\n",
        "\n",
        "def generate_a_rectangle(noise=0.0, free_location=False):\n",
        "    figsize = 1.0    \n",
        "    U = np.zeros(4)\n",
        "    V = np.zeros(4)\n",
        "    if free_location:\n",
        "        corners = np.random.random(4)\n",
        "        top = max(corners[0], corners[1])\n",
        "        bottom = min(corners[0], corners[1])\n",
        "        left = min(corners[2], corners[3])\n",
        "        right = max(corners[2], corners[3])\n",
        "    else:\n",
        "        side = (0.3 + 0.7 * np.random.random()) * figsize\n",
        "        top = figsize/2 + side/2\n",
        "        bottom = figsize/2 - side/2\n",
        "        left = bottom\n",
        "        right = top\n",
        "    U[0] = U[1] = top\n",
        "    U[2] = U[3] = bottom\n",
        "    V[0] = V[3] = left\n",
        "    V[1] = V[2] = right\n",
        "    return generate_a_drawing(figsize, U, V, noise)\n",
        "\n",
        "\n",
        "def generate_a_disk(noise=0.0, free_location=False):\n",
        "    figsize = 1.0\n",
        "    if free_location:\n",
        "        center = np.random.random(2)\n",
        "    else:\n",
        "        center = (figsize/2, figsize/2)\n",
        "    radius = (0.3 + 0.7 * np.random.random()) * figsize/2\n",
        "    N = 50\n",
        "    U = np.zeros(N)\n",
        "    V = np.zeros(N)\n",
        "    i = 0\n",
        "    for t in np.linspace(0, 2*np.pi, N):\n",
        "        U[i] = center[0] + np.cos(t) * radius\n",
        "        V[i] = center[1] + np.sin(t) * radius\n",
        "        i = i + 1\n",
        "    return generate_a_drawing(figsize, U, V, noise)\n",
        "\n",
        "def generate_a_triangle(noise=0.0, free_location=False):\n",
        "    figsize = 1.0\n",
        "    if free_location:\n",
        "        U = np.random.random(3)\n",
        "        V = np.random.random(3)\n",
        "    else:\n",
        "        size = (0.3 + 0.7 * np.random.random())*figsize/2\n",
        "        middle = figsize/2\n",
        "        U = (middle, middle+size, middle-size)\n",
        "        V = (middle+size, middle-size, middle-size)\n",
        "    imdata = generate_a_drawing(figsize, U, V, noise)\n",
        "    return [imdata, [U[0], V[0], U[1], V[1], U[2], V[2]]]\n"
      ],
      "execution_count": 0,
      "outputs": []
    },
    {
      "metadata": {
        "id": "eLSPjiVojRon",
        "colab_type": "code",
        "colab": {}
      },
      "cell_type": "code",
      "source": [
        "\n",
        "def generate_dataset_classification(nb_samples, noise=0.0, free_location=False):\n",
        "    # Getting im_size:\n",
        "    im_size = generate_a_rectangle().shape[0]\n",
        "    X = np.zeros([nb_samples,im_size])\n",
        "    Y = np.zeros(nb_samples)\n",
        "    print('Creating data:')\n",
        "    for i in range(nb_samples):\n",
        "        if i % 100 == 0:\n",
        "            print(i)\n",
        "        category = np.random.randint(3)\n",
        "        if category == 0:\n",
        "            X[i] = generate_a_rectangle(noise, free_location)\n",
        "        elif category == 1: \n",
        "            X[i] = generate_a_disk(noise, free_location)\n",
        "        else:\n",
        "            [X[i], V] = generate_a_triangle(noise, free_location)\n",
        "        Y[i] = category\n",
        "    X = (X + noise) / (255 + 2 * noise)\n",
        "    return [X, Y]\n",
        "\n",
        "def generate_test_set_classification():\n",
        "    np.random.seed(42)\n",
        "    [X_test, Y_test] = generate_dataset_classification(300, 20, True)\n",
        "    Y_test = np_utils.to_categorical(Y_test, 3) \n",
        "    return [X_test, Y_test]"
      ],
      "execution_count": 0,
      "outputs": []
    },
    {
      "metadata": {
        "id": "rDBR5jR2jThq",
        "colab_type": "code",
        "colab": {}
      },
      "cell_type": "code",
      "source": [
        "\n",
        "def generate_dataset_regression(nb_samples, noise=0.0):\n",
        "    # Getting im_size:\n",
        "    im_size = generate_a_triangle()[0].shape[0]\n",
        "    X = np.zeros([nb_samples,im_size])\n",
        "    Y = np.zeros([nb_samples, 6])\n",
        "    print('Creating data:')\n",
        "    for i in range(nb_samples):\n",
        "        if i % 100 == 0:\n",
        "            print(i)\n",
        "        [X[i], Y[i]] = generate_a_triangle(noise, True)\n",
        "    X = (X + noise) / (255 + 2 * noise)\n",
        "    return [X, Y]\n",
        "\n",
        "import matplotlib.patches as patches\n",
        "\n",
        "def generate_test_set_regression():\n",
        "    np.random.seed(42)\n",
        "    [X_test, Y_test] = generate_dataset_regression(300, 20)\n",
        "    return [X_test, Y_test]"
      ],
      "execution_count": 0,
      "outputs": []
    },
    {
      "metadata": {
        "id": "iB7S3IydjUu5",
        "colab_type": "code",
        "colab": {}
      },
      "cell_type": "code",
      "source": [
        "\n",
        "def visualize_prediction(x, y):\n",
        "    fig, ax = plt.subplots(figsize=(5, 5))\n",
        "    I = x.reshape((IMAGE_SIZE,IMAGE_SIZE))\n",
        "    ax.imshow(I, extent=[-0.15,1.15,-0.15,1.15],cmap='gray')\n",
        "    ax.set_xlim([0,1])\n",
        "    ax.set_ylim([0,1])\n",
        "\n",
        "    xy = y.reshape(3,2)\n",
        "    tri = patches.Polygon(xy, closed=True, fill = False, edgecolor = 'r', linewidth = 5, alpha = 0.5)\n",
        "    ax.add_patch(tri)\n",
        "\n",
        "    plt.show()"
      ],
      "execution_count": 0,
      "outputs": []
    },
    {
      "metadata": {
        "id": "6FbstOkFjV5y",
        "colab_type": "code",
        "colab": {
          "base_uri": "https://localhost:8080/",
          "height": 770
        },
        "outputId": "55ce5ff1-c7d4-4c35-f7c6-7ecf95ea61f6"
      },
      "cell_type": "code",
      "source": [
        "im = generate_a_rectangle(10, True)\n",
        "plt.imshow(im.reshape(IMAGE_SIZE,IMAGE_SIZE), cmap='gray')\n",
        "plt.show()\n",
        "\n",
        "im = generate_a_disk(10)\n",
        "plt.imshow(im.reshape(IMAGE_SIZE,IMAGE_SIZE), cmap='gray')\n",
        "plt.show()\n",
        "\n",
        "[im, v] = generate_a_triangle(20, False)\n",
        "plt.imshow(im.reshape(IMAGE_SIZE,IMAGE_SIZE), cmap='gray')\n",
        "plt.show()\n"
      ],
      "execution_count": 6,
      "outputs": [
        {
          "output_type": "display_data",
          "data": {
            "image/png": "[encoded data removed]",
            "text/plain": [
              "<matplotlib.figure.Figure at 0x7fe0fedb0710>"
            ]
          },
          "metadata": {
            "tags": []
          }
        },
        {
          "output_type": "display_data",
          "data": {
            "image/png": "[encoded data removed]",
            "text/plain": [
              "<matplotlib.figure.Figure at 0x7fe0fed3c3c8>"
            ]
          },
          "metadata": {
            "tags": []
          }
        },
        {
          "output_type": "display_data",
          "data": {
            "image/png": "[encoded data removed]",
            "text/plain": [
              "<matplotlib.figure.Figure at 0x7fe0fc47a048>"
            ]
          },
          "metadata": {
            "tags": []
          }
        }
      ]
    },
    {
      "metadata": {
        "id": "2FOo9XlsjYAh",
        "colab_type": "code",
        "colab": {}
      },
      "cell_type": "code",
      "source": [
        "from keras.models import Sequential\n",
        "from keras.layers import Dense, Activation, Dropout, Conv2D, MaxPooling2D, Flatten, BatchNormalization\n",
        "from keras.optimizers import SGD, Adam\n",
        "from keras.utils import to_categorical"
      ],
      "execution_count": 0,
      "outputs": []
    },
    {
      "metadata": {
        "id": "HykkY2GjjZlB",
        "colab_type": "code",
        "colab": {
          "base_uri": "https://localhost:8080/",
          "height": 85
        },
        "outputId": "ad4e3ee6-3699-4303-9863-fd278481ecda"
      },
      "cell_type": "code",
      "source": [
        "# Generating the training dataset\n",
        "[X_train, Y_train] = generate_dataset_classification(300, 20)\n"
      ],
      "execution_count": 8,
      "outputs": [
        {
          "output_type": "stream",
          "text": [
            "Creating data:\n",
            "0\n",
            "100\n",
            "200\n"
          ],
          "name": "stdout"
        }
      ]
    },
    {
      "metadata": {
        "id": "M-24dKqHjbFc",
        "colab_type": "code",
        "colab": {
          "base_uri": "https://localhost:8080/",
          "height": 1734
        },
        "outputId": "ec6f6c91-bae1-431a-f4e1-13fc68cb2235"
      },
      "cell_type": "code",
      "source": [
        "Y_train_categorical = to_categorical(Y_train, num_classes=3)\n",
        "model = Sequential()\n",
        "\n",
        "model.add(Dense(3, input_dim=5184, kernel_initializer='normal', activation='relu'))\n",
        "model.add(Dense(3, kernel_initializer='normal', activation='sigmoid'))\n",
        "\n",
        "sgdOptimizer = SGD(lr=0.001, decay=1e-6, momentum=0.9, nesterov=True)\n",
        "\n",
        "# model.compile(loss='categorical_crossentropy', optimizer=sgdOptimizer, metrics=['accuracy'])\n",
        "model.compile(loss='categorical_crossentropy', optimizer='adam', metrics=['accuracy'])\n",
        "model.fit(X_train, Y_train_categorical, epochs=50, batch_size=16, verbose=1)\n"
      ],
      "execution_count": 9,
      "outputs": [
        {
          "output_type": "stream",
          "text": [
            "Epoch 1/50\n",
            "300/300 [==============================] - 1s 2ms/step - loss: 1.0843 - acc: 0.3167\n",
            "Epoch 2/50\n",
            "300/300 [==============================] - 0s 129us/step - loss: 1.0386 - acc: 0.4500\n",
            "Epoch 3/50\n",
            "300/300 [==============================] - 0s 133us/step - loss: 0.9845 - acc: 0.5300\n",
            "Epoch 4/50\n",
            "300/300 [==============================] - 0s 142us/step - loss: 0.9298 - acc: 0.5300\n",
            "Epoch 5/50\n",
            "300/300 [==============================] - 0s 129us/step - loss: 0.8956 - acc: 0.6200\n",
            "Epoch 6/50\n",
            "300/300 [==============================] - 0s 133us/step - loss: 0.8628 - acc: 0.6467\n",
            "Epoch 7/50\n",
            "300/300 [==============================] - 0s 135us/step - loss: 0.8457 - acc: 0.6633\n",
            "Epoch 8/50\n",
            "300/300 [==============================] - 0s 135us/step - loss: 0.8318 - acc: 0.6767\n",
            "Epoch 9/50\n",
            "300/300 [==============================] - 0s 144us/step - loss: 0.8258 - acc: 0.6733\n",
            "Epoch 10/50\n",
            "300/300 [==============================] - 0s 140us/step - loss: 0.8201 - acc: 0.6767\n",
            "Epoch 11/50\n",
            "300/300 [==============================] - 0s 140us/step - loss: 0.8163 - acc: 0.6633\n",
            "Epoch 12/50\n",
            "300/300 [==============================] - 0s 138us/step - loss: 0.8055 - acc: 0.6733\n",
            "Epoch 13/50\n",
            "300/300 [==============================] - 0s 130us/step - loss: 0.7963 - acc: 0.6800\n",
            "Epoch 14/50\n",
            "300/300 [==============================] - 0s 145us/step - loss: 0.7903 - acc: 0.6800\n",
            "Epoch 15/50\n",
            "300/300 [==============================] - 0s 138us/step - loss: 0.7857 - acc: 0.6800\n",
            "Epoch 16/50\n",
            "300/300 [==============================] - 0s 130us/step - loss: 0.7844 - acc: 0.6800\n",
            "Epoch 17/50\n",
            "300/300 [==============================] - 0s 134us/step - loss: 0.7770 - acc: 0.6800\n",
            "Epoch 18/50\n",
            "300/300 [==============================] - 0s 133us/step - loss: 0.7730 - acc: 0.6800\n",
            "Epoch 19/50\n",
            "300/300 [==============================] - 0s 150us/step - loss: 0.7688 - acc: 0.6800\n",
            "Epoch 20/50\n",
            "300/300 [==============================] - 0s 136us/step - loss: 0.7638 - acc: 0.6800\n",
            "Epoch 21/50\n",
            "300/300 [==============================] - 0s 164us/step - loss: 0.7613 - acc: 0.6800\n",
            "Epoch 22/50\n",
            "300/300 [==============================] - 0s 136us/step - loss: 0.7581 - acc: 0.6800\n",
            "Epoch 23/50\n",
            "300/300 [==============================] - 0s 137us/step - loss: 0.7531 - acc: 0.6800\n",
            "Epoch 24/50\n",
            "300/300 [==============================] - 0s 144us/step - loss: 0.7489 - acc: 0.6800\n",
            "Epoch 25/50\n",
            "300/300 [==============================] - 0s 136us/step - loss: 0.7447 - acc: 0.6800\n",
            "Epoch 26/50\n",
            "300/300 [==============================] - 0s 131us/step - loss: 0.7419 - acc: 0.6800\n",
            "Epoch 27/50\n",
            "300/300 [==============================] - 0s 134us/step - loss: 0.7382 - acc: 0.6800\n",
            "Epoch 28/50\n",
            "300/300 [==============================] - 0s 136us/step - loss: 0.7345 - acc: 0.6800\n",
            "Epoch 29/50\n",
            "300/300 [==============================] - 0s 143us/step - loss: 0.7310 - acc: 0.6800\n",
            "Epoch 30/50\n",
            "300/300 [==============================] - 0s 137us/step - loss: 0.7279 - acc: 0.6800\n",
            "Epoch 31/50\n",
            "300/300 [==============================] - 0s 131us/step - loss: 0.7244 - acc: 0.6800\n",
            "Epoch 32/50\n",
            "300/300 [==============================] - 0s 130us/step - loss: 0.7220 - acc: 0.6800\n",
            "Epoch 33/50\n",
            "300/300 [==============================] - 0s 136us/step - loss: 0.7189 - acc: 0.6800\n",
            "Epoch 34/50\n",
            "300/300 [==============================] - 0s 153us/step - loss: 0.7136 - acc: 0.6800\n",
            "Epoch 35/50\n",
            "300/300 [==============================] - 0s 140us/step - loss: 0.7105 - acc: 0.6800\n",
            "Epoch 36/50\n",
            "300/300 [==============================] - 0s 134us/step - loss: 0.7070 - acc: 0.6800\n",
            "Epoch 37/50\n",
            "300/300 [==============================] - 0s 146us/step - loss: 0.7036 - acc: 0.6800\n",
            "Epoch 38/50\n",
            "300/300 [==============================] - 0s 142us/step - loss: 0.7020 - acc: 0.6800\n",
            "Epoch 39/50\n",
            "300/300 [==============================] - 0s 137us/step - loss: 0.6973 - acc: 0.6800\n",
            "Epoch 40/50\n",
            "300/300 [==============================] - 0s 148us/step - loss: 0.6933 - acc: 0.6800\n",
            "Epoch 41/50\n",
            "300/300 [==============================] - 0s 132us/step - loss: 0.6904 - acc: 0.6800\n",
            "Epoch 42/50\n",
            "300/300 [==============================] - 0s 138us/step - loss: 0.6867 - acc: 0.6800\n",
            "Epoch 43/50\n",
            "300/300 [==============================] - 0s 132us/step - loss: 0.6837 - acc: 0.6800\n",
            "Epoch 44/50\n",
            "300/300 [==============================] - 0s 137us/step - loss: 0.6804 - acc: 0.6800\n",
            "Epoch 45/50\n",
            "300/300 [==============================] - 0s 130us/step - loss: 0.6759 - acc: 0.6800\n",
            "Epoch 46/50\n",
            "300/300 [==============================] - 0s 135us/step - loss: 0.6731 - acc: 0.6800\n",
            "Epoch 47/50\n",
            "300/300 [==============================] - 0s 142us/step - loss: 0.6691 - acc: 0.6800\n",
            "Epoch 48/50\n",
            "300/300 [==============================] - 0s 153us/step - loss: 0.6662 - acc: 0.6800\n",
            "Epoch 49/50\n",
            "300/300 [==============================] - 0s 141us/step - loss: 0.6618 - acc: 0.6800\n",
            "Epoch 50/50\n",
            "300/300 [==============================] - 0s 127us/step - loss: 0.6601 - acc: 0.6800\n"
          ],
          "name": "stdout"
        },
        {
          "output_type": "execute_result",
          "data": {
            "text/plain": [
              "<keras.callbacks.History at 0x7fe0f7c986a0>"
            ]
          },
          "metadata": {
            "tags": []
          },
          "execution_count": 9
        }
      ]
    },
    {
      "metadata": {
        "id": "jGJ8Ogfljcuc",
        "colab_type": "code",
        "colab": {}
      },
      "cell_type": "code",
      "source": [
        "# TODO: Plots of loss and accuracy, SGD and Adam "
      ],
      "execution_count": 0,
      "outputs": []
    },
    {
      "metadata": {
        "id": "khy9bstpjfr-",
        "colab_type": "code",
        "colab": {
          "base_uri": "https://localhost:8080/",
          "height": 34
        },
        "outputId": "753d4757-0fd7-4a31-9449-4aecd7fa2170"
      },
      "cell_type": "code",
      "source": [
        "X_test = generate_a_disk(10)\n",
        "X_test = X_test.reshape(1, X_test.shape[0])\n",
        "model.predict(X_test)"
      ],
      "execution_count": 11,
      "outputs": [
        {
          "output_type": "execute_result",
          "data": {
            "text/plain": [
              "array([[1., 1., 0.]], dtype=float32)"
            ]
          },
          "metadata": {
            "tags": []
          },
          "execution_count": 11
        }
      ]
    },
    {
      "metadata": {
        "id": "ula9o0mBjgjZ",
        "colab_type": "code",
        "colab": {
          "base_uri": "https://localhost:8080/",
          "height": 51
        },
        "outputId": "c37049e3-0bf7-4c76-b7dc-3d4c31cafe0e"
      },
      "cell_type": "code",
      "source": [
        "print(model.get_weights()[0].shape)\n",
        "print(len(model.get_weights()))"
      ],
      "execution_count": 12,
      "outputs": [
        {
          "output_type": "stream",
          "text": [
            "(5184, 3)\n",
            "4\n"
          ],
          "name": "stdout"
        }
      ]
    },
    {
      "metadata": {
        "id": "dBjUvSJ1jhev",
        "colab_type": "code",
        "colab": {
          "base_uri": "https://localhost:8080/",
          "height": 770
        },
        "outputId": "5d86ddee-7813-4763-c0f6-1456f60eeca8"
      },
      "cell_type": "code",
      "source": [
        "for j in range(3):\n",
        "    plt.imshow(model.get_weights()[0][:,j].reshape(IMAGE_SIZE,IMAGE_SIZE), cmap='gray')\n",
        "    plt.show()"
      ],
      "execution_count": 13,
      "outputs": [
        {
          "output_type": "display_data",
          "data": {
            "image/png": "[encoded data removed]",
            "text/plain": [
              "<matplotlib.figure.Figure at 0x7fe0f40c8550>"
            ]
          },
          "metadata": {
            "tags": []
          }
        },
        {
          "output_type": "display_data",
          "data": {
            "image/png": "[encoded data removed]",
            "text/plain": [
              "<matplotlib.figure.Figure at 0x7fe0f4043588>"
            ]
          },
          "metadata": {
            "tags": []
          }
        },
        {
          "output_type": "display_data",
          "data": {
            "image/png": "[encoded data removed]",
            "text/plain": [
              "<matplotlib.figure.Figure at 0x7fe0f3fa1e80>"
            ]
          },
          "metadata": {
            "tags": []
          }
        }
      ]
    },
    {
      "metadata": {
        "id": "eBnmfbkPjihL",
        "colab_type": "code",
        "colab": {
          "base_uri": "https://localhost:8080/",
          "height": 85
        },
        "outputId": "616258bf-4484-455f-bb2f-df447e8017e8"
      },
      "cell_type": "code",
      "source": [
        "[X_train, Y_train] = generate_dataset_classification(300, 20, True)\n",
        "Y_train_categorical = np_utils.to_categorical(Y_train, num_classes=3)"
      ],
      "execution_count": 16,
      "outputs": [
        {
          "output_type": "stream",
          "text": [
            "Creating data:\n",
            "0\n",
            "100\n",
            "200\n"
          ],
          "name": "stdout"
        }
      ]
    },
    {
      "metadata": {
        "id": "oBsAhSQyjknx",
        "colab_type": "code",
        "colab": {
          "base_uri": "https://localhost:8080/",
          "height": 85
        },
        "outputId": "e377e6ac-ed83-40b2-b6f0-0a55f0b3a3db"
      },
      "cell_type": "code",
      "source": [
        "[X_test, Y_test] = generate_test_set_classification()"
      ],
      "execution_count": 17,
      "outputs": [
        {
          "output_type": "stream",
          "text": [
            "Creating data:\n",
            "0\n",
            "100\n",
            "200\n"
          ],
          "name": "stdout"
        }
      ]
    },
    {
      "metadata": {
        "id": "okahugRmjmRS",
        "colab_type": "code",
        "colab": {
          "base_uri": "https://localhost:8080/",
          "height": 3434
        },
        "outputId": "0bb11d29-6961-492d-8b0a-3986cf2e5fb3"
      },
      "cell_type": "code",
      "source": [
        "model.compile(loss='categorical_crossentropy', optimizer='adam', metrics=['accuracy'])\n",
        "model.fit(X_train, Y_train_categorical, epochs=100, batch_size=8, verbose=1)"
      ],
      "execution_count": 18,
      "outputs": [
        {
          "output_type": "stream",
          "text": [
            "Epoch 1/100\n",
            "300/300 [==============================] - 0s 714us/step - loss: 1.1908 - acc: 0.3400\n",
            "Epoch 2/100\n",
            "300/300 [==============================] - 0s 208us/step - loss: 1.1455 - acc: 0.3467\n",
            "Epoch 3/100\n",
            "300/300 [==============================] - 0s 227us/step - loss: 1.1748 - acc: 0.3267\n",
            "Epoch 4/100\n",
            "300/300 [==============================] - 0s 229us/step - loss: 1.1482 - acc: 0.3467\n",
            "Epoch 5/100\n",
            "300/300 [==============================] - 0s 210us/step - loss: 1.1330 - acc: 0.3600\n",
            "Epoch 6/100\n",
            "300/300 [==============================] - 0s 208us/step - loss: 1.1227 - acc: 0.3900\n",
            "Epoch 7/100\n",
            "300/300 [==============================] - 0s 232us/step - loss: 1.0979 - acc: 0.4267\n",
            "Epoch 8/100\n",
            "300/300 [==============================] - 0s 214us/step - loss: 1.0887 - acc: 0.4233\n",
            "Epoch 9/100\n",
            "300/300 [==============================] - 0s 217us/step - loss: 1.0630 - acc: 0.4367\n",
            "Epoch 10/100\n",
            "300/300 [==============================] - 0s 195us/step - loss: 1.0539 - acc: 0.4300\n",
            "Epoch 11/100\n",
            "300/300 [==============================] - 0s 219us/step - loss: 1.0445 - acc: 0.4533\n",
            "Epoch 12/100\n",
            "300/300 [==============================] - 0s 209us/step - loss: 1.0541 - acc: 0.4333\n",
            "Epoch 13/100\n",
            "300/300 [==============================] - 0s 215us/step - loss: 1.0179 - acc: 0.4533\n",
            "Epoch 14/100\n",
            "300/300 [==============================] - 0s 225us/step - loss: 1.0102 - acc: 0.4767\n",
            "Epoch 15/100\n",
            "300/300 [==============================] - 0s 221us/step - loss: 1.0063 - acc: 0.4700\n",
            "Epoch 16/100\n",
            "300/300 [==============================] - 0s 214us/step - loss: 1.0144 - acc: 0.4567\n",
            "Epoch 17/100\n",
            "300/300 [==============================] - 0s 203us/step - loss: 1.0649 - acc: 0.4167\n",
            "Epoch 18/100\n",
            "300/300 [==============================] - 0s 208us/step - loss: 0.9912 - acc: 0.4667\n",
            "Epoch 19/100\n",
            "300/300 [==============================] - 0s 210us/step - loss: 0.9846 - acc: 0.4833\n",
            "Epoch 20/100\n",
            "300/300 [==============================] - 0s 192us/step - loss: 0.9786 - acc: 0.4733\n",
            "Epoch 21/100\n",
            "300/300 [==============================] - 0s 221us/step - loss: 0.9779 - acc: 0.4700\n",
            "Epoch 22/100\n",
            "300/300 [==============================] - 0s 231us/step - loss: 0.9609 - acc: 0.5000\n",
            "Epoch 23/100\n",
            "300/300 [==============================] - 0s 216us/step - loss: 0.9629 - acc: 0.4833\n",
            "Epoch 24/100\n",
            "300/300 [==============================] - 0s 208us/step - loss: 0.9621 - acc: 0.4900\n",
            "Epoch 25/100\n",
            "300/300 [==============================] - 0s 216us/step - loss: 0.9791 - acc: 0.4767\n",
            "Epoch 26/100\n",
            "300/300 [==============================] - 0s 225us/step - loss: 0.9816 - acc: 0.4733\n",
            "Epoch 27/100\n",
            "300/300 [==============================] - 0s 216us/step - loss: 0.9672 - acc: 0.4833\n",
            "Epoch 28/100\n",
            "300/300 [==============================] - 0s 222us/step - loss: 0.9631 - acc: 0.4833\n",
            "Epoch 29/100\n",
            "300/300 [==============================] - 0s 206us/step - loss: 0.9548 - acc: 0.4967\n",
            "Epoch 30/100\n",
            "300/300 [==============================] - 0s 218us/step - loss: 0.9493 - acc: 0.5000\n",
            "Epoch 31/100\n",
            "300/300 [==============================] - 0s 229us/step - loss: 0.9444 - acc: 0.5033\n",
            "Epoch 32/100\n",
            "300/300 [==============================] - 0s 233us/step - loss: 0.9455 - acc: 0.5067\n",
            "Epoch 33/100\n",
            "300/300 [==============================] - 0s 206us/step - loss: 0.9498 - acc: 0.4967\n",
            "Epoch 34/100\n",
            "300/300 [==============================] - 0s 225us/step - loss: 1.0013 - acc: 0.4600\n",
            "Epoch 35/100\n",
            "300/300 [==============================] - 0s 212us/step - loss: 0.9549 - acc: 0.4867\n",
            "Epoch 36/100\n",
            "300/300 [==============================] - 0s 232us/step - loss: 0.9528 - acc: 0.4867\n",
            "Epoch 37/100\n",
            "300/300 [==============================] - 0s 223us/step - loss: 0.9583 - acc: 0.4967\n",
            "Epoch 38/100\n",
            "300/300 [==============================] - 0s 216us/step - loss: 0.9467 - acc: 0.5067\n",
            "Epoch 39/100\n",
            "300/300 [==============================] - 0s 231us/step - loss: 0.9491 - acc: 0.4833\n",
            "Epoch 40/100\n",
            "300/300 [==============================] - 0s 256us/step - loss: 0.9456 - acc: 0.5000\n",
            "Epoch 41/100\n",
            "300/300 [==============================] - 0s 218us/step - loss: 0.9381 - acc: 0.5033\n",
            "Epoch 42/100\n",
            "300/300 [==============================] - 0s 225us/step - loss: 0.9348 - acc: 0.5100\n",
            "Epoch 43/100\n",
            "300/300 [==============================] - 0s 233us/step - loss: 0.9572 - acc: 0.4833\n",
            "Epoch 44/100\n",
            "300/300 [==============================] - 0s 212us/step - loss: 0.9484 - acc: 0.4933\n",
            "Epoch 45/100\n",
            "300/300 [==============================] - 0s 230us/step - loss: 0.9368 - acc: 0.5100\n",
            "Epoch 46/100\n",
            "300/300 [==============================] - 0s 204us/step - loss: 0.9463 - acc: 0.5067\n",
            "Epoch 47/100\n",
            "300/300 [==============================] - 0s 228us/step - loss: 0.9372 - acc: 0.5067\n",
            "Epoch 48/100\n",
            "300/300 [==============================] - 0s 201us/step - loss: 0.9754 - acc: 0.4900\n",
            "Epoch 49/100\n",
            "300/300 [==============================] - 0s 232us/step - loss: 0.9747 - acc: 0.4800\n",
            "Epoch 50/100\n",
            "300/300 [==============================] - 0s 217us/step - loss: 0.9292 - acc: 0.5133\n",
            "Epoch 51/100\n",
            "300/300 [==============================] - 0s 216us/step - loss: 0.9229 - acc: 0.5133\n",
            "Epoch 52/100\n",
            "300/300 [==============================] - 0s 215us/step - loss: 0.9137 - acc: 0.5200\n",
            "Epoch 53/100\n",
            "300/300 [==============================] - 0s 222us/step - loss: 0.9143 - acc: 0.5233\n",
            "Epoch 54/100\n",
            "300/300 [==============================] - 0s 229us/step - loss: 0.9061 - acc: 0.5333\n",
            "Epoch 55/100\n",
            "300/300 [==============================] - 0s 228us/step - loss: 0.9102 - acc: 0.5267\n",
            "Epoch 56/100\n",
            "300/300 [==============================] - 0s 209us/step - loss: 0.9211 - acc: 0.5067\n",
            "Epoch 57/100\n",
            "300/300 [==============================] - 0s 213us/step - loss: 0.9169 - acc: 0.5233\n",
            "Epoch 58/100\n",
            "300/300 [==============================] - 0s 214us/step - loss: 0.9112 - acc: 0.5133\n",
            "Epoch 59/100\n",
            "300/300 [==============================] - 0s 217us/step - loss: 0.9117 - acc: 0.5233\n",
            "Epoch 60/100\n",
            "300/300 [==============================] - 0s 211us/step - loss: 0.9126 - acc: 0.5167\n",
            "Epoch 61/100\n",
            "300/300 [==============================] - 0s 230us/step - loss: 0.9062 - acc: 0.5267\n",
            "Epoch 62/100\n",
            "300/300 [==============================] - 0s 231us/step - loss: 0.8866 - acc: 0.5467\n",
            "Epoch 63/100\n",
            "300/300 [==============================] - 0s 226us/step - loss: 0.8842 - acc: 0.5500\n",
            "Epoch 64/100\n",
            "300/300 [==============================] - 0s 237us/step - loss: 0.8767 - acc: 0.5533\n",
            "Epoch 65/100\n",
            "300/300 [==============================] - 0s 224us/step - loss: 0.9054 - acc: 0.5267\n",
            "Epoch 66/100\n",
            "300/300 [==============================] - 0s 226us/step - loss: 0.8934 - acc: 0.5367\n",
            "Epoch 67/100\n",
            "300/300 [==============================] - 0s 229us/step - loss: 0.8695 - acc: 0.5533\n",
            "Epoch 68/100\n",
            "300/300 [==============================] - 0s 209us/step - loss: 0.8663 - acc: 0.5500\n",
            "Epoch 69/100\n",
            "300/300 [==============================] - 0s 217us/step - loss: 0.8787 - acc: 0.5433\n",
            "Epoch 70/100\n",
            "300/300 [==============================] - 0s 210us/step - loss: 0.8773 - acc: 0.5433\n",
            "Epoch 71/100\n",
            "300/300 [==============================] - 0s 223us/step - loss: 0.8844 - acc: 0.5367\n",
            "Epoch 72/100\n",
            "300/300 [==============================] - 0s 223us/step - loss: 0.8926 - acc: 0.5333\n",
            "Epoch 73/100\n",
            "300/300 [==============================] - 0s 202us/step - loss: 0.8592 - acc: 0.5533\n",
            "Epoch 74/100\n",
            "300/300 [==============================] - 0s 215us/step - loss: 0.8926 - acc: 0.5267\n",
            "Epoch 75/100\n",
            "300/300 [==============================] - 0s 219us/step - loss: 0.8369 - acc: 0.5833\n",
            "Epoch 76/100\n",
            "300/300 [==============================] - 0s 234us/step - loss: 0.8307 - acc: 0.5833\n",
            "Epoch 77/100\n",
            "300/300 [==============================] - 0s 215us/step - loss: 0.8347 - acc: 0.5733\n",
            "Epoch 78/100\n",
            "300/300 [==============================] - 0s 214us/step - loss: 0.8588 - acc: 0.5533\n",
            "Epoch 79/100\n",
            "300/300 [==============================] - 0s 227us/step - loss: 0.8262 - acc: 0.5833\n",
            "Epoch 80/100\n",
            "300/300 [==============================] - 0s 231us/step - loss: 0.8677 - acc: 0.5367\n",
            "Epoch 81/100\n",
            "300/300 [==============================] - 0s 220us/step - loss: 0.8894 - acc: 0.5233\n",
            "Epoch 82/100\n",
            "300/300 [==============================] - 0s 222us/step - loss: 0.8309 - acc: 0.5700\n",
            "Epoch 83/100\n",
            "300/300 [==============================] - 0s 218us/step - loss: 0.8161 - acc: 0.5933\n",
            "Epoch 84/100\n",
            "300/300 [==============================] - 0s 219us/step - loss: 0.8178 - acc: 0.5867\n",
            "Epoch 85/100\n",
            "300/300 [==============================] - 0s 224us/step - loss: 0.7981 - acc: 0.5900\n",
            "Epoch 86/100\n",
            "300/300 [==============================] - 0s 197us/step - loss: 0.8217 - acc: 0.5900\n",
            "Epoch 87/100\n",
            "300/300 [==============================] - 0s 221us/step - loss: 0.8378 - acc: 0.5600\n",
            "Epoch 88/100\n",
            "300/300 [==============================] - 0s 234us/step - loss: 0.8027 - acc: 0.5933\n",
            "Epoch 89/100\n",
            "300/300 [==============================] - 0s 207us/step - loss: 0.8050 - acc: 0.6000\n",
            "Epoch 90/100\n",
            "300/300 [==============================] - 0s 228us/step - loss: 0.7968 - acc: 0.6033\n",
            "Epoch 91/100\n",
            "300/300 [==============================] - 0s 210us/step - loss: 0.8083 - acc: 0.5900\n",
            "Epoch 92/100\n",
            "300/300 [==============================] - 0s 215us/step - loss: 0.8660 - acc: 0.5367\n",
            "Epoch 93/100\n",
            "300/300 [==============================] - 0s 210us/step - loss: 0.8057 - acc: 0.5933\n",
            "Epoch 94/100\n",
            "300/300 [==============================] - 0s 299us/step - loss: 0.8245 - acc: 0.5733\n",
            "Epoch 95/100\n",
            "300/300 [==============================] - 0s 214us/step - loss: 0.7869 - acc: 0.6100\n",
            "Epoch 96/100\n",
            "300/300 [==============================] - 0s 222us/step - loss: 0.7732 - acc: 0.6100\n",
            "Epoch 97/100\n",
            "300/300 [==============================] - 0s 216us/step - loss: 0.8037 - acc: 0.6000\n",
            "Epoch 98/100\n",
            "300/300 [==============================] - 0s 224us/step - loss: 0.7816 - acc: 0.6267\n",
            "Epoch 99/100\n",
            "300/300 [==============================] - 0s 219us/step - loss: 0.7650 - acc: 0.6367\n",
            "Epoch 100/100\n",
            "300/300 [==============================] - 0s 230us/step - loss: 0.7610 - acc: 0.6200\n"
          ],
          "name": "stdout"
        },
        {
          "output_type": "execute_result",
          "data": {
            "text/plain": [
              "<keras.callbacks.History at 0x7fe0f9de90b8>"
            ]
          },
          "metadata": {
            "tags": []
          },
          "execution_count": 18
        }
      ]
    },
    {
      "metadata": {
        "id": "HMyYiQ07jsg9",
        "colab_type": "code",
        "colab": {
          "base_uri": "https://localhost:8080/",
          "height": 51
        },
        "outputId": "1f423f2b-650e-4da3-e1ec-8195615c7220"
      },
      "cell_type": "code",
      "source": [
        "model.evaluate(X_test, Y_test)"
      ],
      "execution_count": 19,
      "outputs": [
        {
          "output_type": "stream",
          "text": [
            "300/300 [==============================] - 0s 207us/step\n"
          ],
          "name": "stdout"
        },
        {
          "output_type": "execute_result",
          "data": {
            "text/plain": [
              "[0.880685342947642, 0.556666665871938]"
            ]
          },
          "metadata": {
            "tags": []
          },
          "execution_count": 19
        }
      ]
    },
    {
      "metadata": {
        "id": "fS2n3bY6jtsa",
        "colab_type": "code",
        "colab": {
          "base_uri": "https://localhost:8080/",
          "height": 204
        },
        "outputId": "4f202d8c-b8b1-4dc1-f21b-268e558e7713"
      },
      "cell_type": "code",
      "source": [
        "nb_sample = 1000\n",
        "[X_train, Y_train] = generate_dataset_classification(nb_sample, 20, True)\n",
        "Y_train_categorical = np_utils.to_categorical(Y_train, num_classes=3)"
      ],
      "execution_count": 32,
      "outputs": [
        {
          "output_type": "stream",
          "text": [
            "Creating data:\n",
            "0\n",
            "100\n",
            "200\n",
            "300\n",
            "400\n",
            "500\n",
            "600\n",
            "700\n",
            "800\n",
            "900\n"
          ],
          "name": "stdout"
        }
      ]
    },
    {
      "metadata": {
        "id": "M5PXhdsdjvBa",
        "colab_type": "code",
        "colab": {
          "base_uri": "https://localhost:8080/",
          "height": 374
        },
        "outputId": "0370d0f4-bc6a-46ac-b94f-fec55c12caae"
      },
      "cell_type": "code",
      "source": [
        "from keras import backend as K\n",
        "K.tensorflow_backend._get_available_gpus()\n",
        "\n",
        "def createModel():\n",
        "    model = Sequential()\n",
        "    model.add(Conv2D(32, (3, 3), padding='same', activation='relu', input_shape=(IMAGE_SIZE,IMAGE_SIZE,1)))\n",
        "    model.add(Conv2D(32, (3, 3), activation='relu'))\n",
        "    model.add(MaxPooling2D(pool_size=(2, 2)))\n",
        "    model.add(Dropout(0.25))\n",
        "    \n",
        "    model.add(Flatten())\n",
        "    model.add(Dense(512, activation='relu'))\n",
        "    model.add(Dropout(0.5))\n",
        "    model.add(Dense(3, activation='softmax'))\n",
        "    return model\n",
        "\n",
        "cnn_model = createModel()\n",
        "\n",
        "\n",
        "X_train = X_train.reshape((nb_sample,IMAGE_SIZE,IMAGE_SIZE,1))\n",
        "\n",
        "cnn_model.compile(loss='categorical_crossentropy', optimizer='adam', metrics=['accuracy'])\n",
        "cnn_model.fit(X_train, Y_train_categorical, epochs=10, batch_size=36, verbose=1)"
      ],
      "execution_count": 34,
      "outputs": [
        {
          "output_type": "stream",
          "text": [
            "Epoch 1/10\n",
            "1000/1000 [==============================] - 27s 27ms/step - loss: 2.7492 - acc: 0.4610\n",
            "Epoch 2/10\n",
            "1000/1000 [==============================] - 24s 24ms/step - loss: 0.7111 - acc: 0.7040\n",
            "Epoch 3/10\n",
            "1000/1000 [==============================] - 25s 25ms/step - loss: 0.4617 - acc: 0.8290\n",
            "Epoch 4/10\n",
            "1000/1000 [==============================] - 24s 24ms/step - loss: 0.2207 - acc: 0.9510\n",
            "Epoch 5/10\n",
            "1000/1000 [==============================] - 24s 24ms/step - loss: 0.1056 - acc: 0.9760\n",
            "Epoch 6/10\n",
            "1000/1000 [==============================] - 25s 25ms/step - loss: 0.0561 - acc: 0.9880\n",
            "Epoch 7/10\n",
            "1000/1000 [==============================] - 25s 25ms/step - loss: 0.0453 - acc: 0.9900\n",
            "Epoch 8/10\n",
            "1000/1000 [==============================] - 24s 24ms/step - loss: 0.0214 - acc: 0.9970\n",
            "Epoch 9/10\n",
            "1000/1000 [==============================] - 25s 25ms/step - loss: 0.0105 - acc: 1.0000\n",
            "Epoch 10/10\n",
            "1000/1000 [==============================] - 25s 25ms/step - loss: 0.0063 - acc: 0.9990\n"
          ],
          "name": "stdout"
        },
        {
          "output_type": "execute_result",
          "data": {
            "text/plain": [
              "<keras.callbacks.History at 0x7fe0e5482eb8>"
            ]
          },
          "metadata": {
            "tags": []
          },
          "execution_count": 34
        }
      ]
    },
    {
      "metadata": {
        "id": "caJUsSpLjwgZ",
        "colab_type": "code",
        "colab": {
          "base_uri": "https://localhost:8080/",
          "height": 119
        },
        "outputId": "a6075330-b1d7-46c2-8661-2e0a0e119744"
      },
      "cell_type": "code",
      "source": [
        "[X_test, Y_test] = generate_test_set_classification()\n",
        "\n",
        "X_test = X_test.reshape((300,IMAGE_SIZE,IMAGE_SIZE,1))\n",
        "cnn_model.evaluate(X_test, Y_test)"
      ],
      "execution_count": 38,
      "outputs": [
        {
          "output_type": "stream",
          "text": [
            "Creating data:\n",
            "0\n",
            "100\n",
            "200\n",
            "300/300 [==============================] - 2s 7ms/step\n"
          ],
          "name": "stdout"
        },
        {
          "output_type": "execute_result",
          "data": {
            "text/plain": [
              "[0.255686594247818, 0.9199999992052714]"
            ]
          },
          "metadata": {
            "tags": []
          },
          "execution_count": 38
        }
      ]
    },
    {
      "metadata": {
        "id": "EV8sQICTtEWE",
        "colab_type": "code",
        "colab": {
          "base_uri": "https://localhost:8080/",
          "height": 85
        },
        "outputId": "46b0e9d0-8844-4ab0-cb24-44db1acb15fa"
      },
      "cell_type": "code",
      "source": [
        "[X_train, Y_train] = generate_dataset_regression(300, 20)"
      ],
      "execution_count": 82,
      "outputs": [
        {
          "output_type": "stream",
          "text": [
            "Creating data:\n",
            "0\n",
            "100\n",
            "200\n"
          ],
          "name": "stdout"
        }
      ]
    },
    {
      "metadata": {
        "id": "dqdC9gR605Eg",
        "colab_type": "code",
        "colab": {
          "base_uri": "https://localhost:8080/",
          "height": 324
        },
        "outputId": "b1b64efb-d464-46c5-9f93-8635ee5893b1"
      },
      "cell_type": "code",
      "source": [
        "visualize_prediction(X_train[0], Y_train[0])"
      ],
      "execution_count": 83,
      "outputs": [
        {
          "output_type": "display_data",
          "data": {
            "image/png": "[encoded data removed]",
            "text/plain": [
              "<matplotlib.figure.Figure at 0x7fe0f20f0780>"
            ]
          },
          "metadata": {
            "tags": []
          }
        }
      ]
    },
    {
      "metadata": {
        "id": "tT4084VuwinT",
        "colab_type": "code",
        "colab": {
          "base_uri": "https://localhost:8080/",
          "height": 625
        },
        "outputId": "f1a03a08-7f27-4447-dd09-f74febef8807"
      },
      "cell_type": "code",
      "source": [
        "from sklearn.preprocessing import MinMaxScaler\n",
        "# scalarXtrain, scalarYtrain = MinMaxScaler(), MinMaxScaler()\n",
        "# scalarXtrain.fit(X_train)\n",
        "# scalarYtrain.fit(Y_train.reshape(-1,1))\n",
        "# X_train = scalarXtrain.transform(X_train)\n",
        "# Y_train = scalarYtrain.transform(Y_train.reshape(-1,1))\n",
        "\n",
        "scaler = MinMaxScaler()\n",
        "print(scaler.fit(X_train))\n",
        "print(scaler.fit(Y_train))\n",
        "Y_train = scaler.transform(Y_train)\n",
        "print(X_train[0].shape)\n",
        "\n",
        "model = Sequential()\n",
        "model.add(Dense(100, input_dim=5184))\n",
        "model.add(Activation('tanh'))\n",
        "model.add(Dense(6))\n",
        "\n",
        "model.compile(loss='mse', optimizer='adam', metrics=['mse'])\n",
        "model.fit(X_train, Y_train, epochs=100, verbose=2)"
      ],
      "execution_count": 120,
      "outputs": [
        {
          "output_type": "stream",
          "text": [
            "MinMaxScaler(copy=True, feature_range=(0, 1))\n",
            "MinMaxScaler(copy=True, feature_range=(0, 1))\n",
            "(5184,)\n"
          ],
          "name": "stdout"
        },
        {
          "output_type": "error",
          "ename": "ValueError",
          "evalue": "ignored",
          "traceback": [
            "\u001b[0;31m---------------------------------------------------------------------------\u001b[0m",
            "\u001b[0;31mValueError\u001b[0m                                Traceback (most recent call last)",
            "\u001b[0;32m<ipython-input-120-fc41e847ccba>\u001b[0m in \u001b[0;36m<module>\u001b[0;34m()\u001b[0m\n\u001b[1;32m     18\u001b[0m \u001b[0;34m\u001b[0m\u001b[0m\n\u001b[1;32m     19\u001b[0m \u001b[0mmodel\u001b[0m\u001b[0;34m.\u001b[0m\u001b[0mcompile\u001b[0m\u001b[0;34m(\u001b[0m\u001b[0mloss\u001b[0m\u001b[0;34m=\u001b[0m\u001b[0;34m'mse'\u001b[0m\u001b[0;34m,\u001b[0m \u001b[0moptimizer\u001b[0m\u001b[0;34m=\u001b[0m\u001b[0;34m'adam'\u001b[0m\u001b[0;34m,\u001b[0m \u001b[0mmetrics\u001b[0m\u001b[0;34m=\u001b[0m\u001b[0;34m[\u001b[0m\u001b[0;34m'mse'\u001b[0m\u001b[0;34m]\u001b[0m\u001b[0;34m)\u001b[0m\u001b[0;34m\u001b[0m\u001b[0;34m\u001b[0m\u001b[0m\n\u001b[0;32m---> 20\u001b[0;31m \u001b[0mmodel\u001b[0m\u001b[0;34m.\u001b[0m\u001b[0mfit\u001b[0m\u001b[0;34m(\u001b[0m\u001b[0mX_train\u001b[0m\u001b[0;34m,\u001b[0m \u001b[0mY_train\u001b[0m\u001b[0;34m,\u001b[0m \u001b[0mepochs\u001b[0m\u001b[0;34m=\u001b[0m\u001b[0;36m100\u001b[0m\u001b[0;34m,\u001b[0m \u001b[0mverbose\u001b[0m\u001b[0;34m=\u001b[0m\u001b[0;36m2\u001b[0m\u001b[0;34m)\u001b[0m\u001b[0;34m\u001b[0m\u001b[0;34m\u001b[0m\u001b[0m\n\u001b[0m",
            "\u001b[0;32m/usr/local/lib/python3.6/dist-packages/keras/engine/training.py\u001b[0m in \u001b[0;36mfit\u001b[0;34m(self, x, y, batch_size, epochs, verbose, callbacks, validation_split, validation_data, shuffle, class_weight, sample_weight, initial_epoch, steps_per_epoch, validation_steps, **kwargs)\u001b[0m\n\u001b[1;32m    950\u001b[0m             \u001b[0msample_weight\u001b[0m\u001b[0;34m=\u001b[0m\u001b[0msample_weight\u001b[0m\u001b[0;34m,\u001b[0m\u001b[0;34m\u001b[0m\u001b[0;34m\u001b[0m\u001b[0m\n\u001b[1;32m    951\u001b[0m             \u001b[0mclass_weight\u001b[0m\u001b[0;34m=\u001b[0m\u001b[0mclass_weight\u001b[0m\u001b[0;34m,\u001b[0m\u001b[0;34m\u001b[0m\u001b[0;34m\u001b[0m\u001b[0m\n\u001b[0;32m--> 952\u001b[0;31m             batch_size=batch_size)\n\u001b[0m\u001b[1;32m    953\u001b[0m         \u001b[0;31m# Prepare validation data.\u001b[0m\u001b[0;34m\u001b[0m\u001b[0;34m\u001b[0m\u001b[0;34m\u001b[0m\u001b[0m\n\u001b[1;32m    954\u001b[0m         \u001b[0mdo_validation\u001b[0m \u001b[0;34m=\u001b[0m \u001b[0;32mFalse\u001b[0m\u001b[0;34m\u001b[0m\u001b[0;34m\u001b[0m\u001b[0m\n",
            "\u001b[0;32m/usr/local/lib/python3.6/dist-packages/keras/engine/training.py\u001b[0m in \u001b[0;36m_standardize_user_data\u001b[0;34m(self, x, y, sample_weight, class_weight, check_array_lengths, batch_size)\u001b[0m\n\u001b[1;32m    787\u001b[0m                 \u001b[0mfeed_output_shapes\u001b[0m\u001b[0;34m,\u001b[0m\u001b[0;34m\u001b[0m\u001b[0;34m\u001b[0m\u001b[0m\n\u001b[1;32m    788\u001b[0m                 \u001b[0mcheck_batch_axis\u001b[0m\u001b[0;34m=\u001b[0m\u001b[0;32mFalse\u001b[0m\u001b[0;34m,\u001b[0m  \u001b[0;31m# Don't enforce the batch size.\u001b[0m\u001b[0;34m\u001b[0m\u001b[0;34m\u001b[0m\u001b[0m\n\u001b[0;32m--> 789\u001b[0;31m                 exception_prefix='target')\n\u001b[0m\u001b[1;32m    790\u001b[0m \u001b[0;34m\u001b[0m\u001b[0m\n\u001b[1;32m    791\u001b[0m             \u001b[0;31m# Generate sample-wise weight values given the `sample_weight` and\u001b[0m\u001b[0;34m\u001b[0m\u001b[0;34m\u001b[0m\u001b[0;34m\u001b[0m\u001b[0m\n",
            "\u001b[0;32m/usr/local/lib/python3.6/dist-packages/keras/engine/training_utils.py\u001b[0m in \u001b[0;36mstandardize_input_data\u001b[0;34m(data, names, shapes, check_batch_axis, exception_prefix)\u001b[0m\n\u001b[1;32m    136\u001b[0m                             \u001b[0;34m': expected '\u001b[0m \u001b[0;34m+\u001b[0m \u001b[0mnames\u001b[0m\u001b[0;34m[\u001b[0m\u001b[0mi\u001b[0m\u001b[0;34m]\u001b[0m \u001b[0;34m+\u001b[0m \u001b[0;34m' to have shape '\u001b[0m \u001b[0;34m+\u001b[0m\u001b[0;34m\u001b[0m\u001b[0;34m\u001b[0m\u001b[0m\n\u001b[1;32m    137\u001b[0m                             \u001b[0mstr\u001b[0m\u001b[0;34m(\u001b[0m\u001b[0mshape\u001b[0m\u001b[0;34m)\u001b[0m \u001b[0;34m+\u001b[0m \u001b[0;34m' but got array with shape '\u001b[0m \u001b[0;34m+\u001b[0m\u001b[0;34m\u001b[0m\u001b[0;34m\u001b[0m\u001b[0m\n\u001b[0;32m--> 138\u001b[0;31m                             str(data_shape))\n\u001b[0m\u001b[1;32m    139\u001b[0m     \u001b[0;32mreturn\u001b[0m \u001b[0mdata\u001b[0m\u001b[0;34m\u001b[0m\u001b[0;34m\u001b[0m\u001b[0m\n\u001b[1;32m    140\u001b[0m \u001b[0;34m\u001b[0m\u001b[0m\n",
            "\u001b[0;31mValueError\u001b[0m: Error when checking target: expected dense_114 to have shape (1800,) but got array with shape (6,)"
          ]
        }
      ]
    },
    {
      "metadata": {
        "id": "dIKtw0G5072k",
        "colab_type": "code",
        "colab": {
          "base_uri": "https://localhost:8080/",
          "height": 119
        },
        "outputId": "b29db7ea-67f8-4453-ed89-4925350b7999"
      },
      "cell_type": "code",
      "source": [
        "[X_test, Y_test] = generate_test_set_regression()\n",
        "\n",
        "scalerTest = MinMaxScaler()\n",
        "\n",
        "print(scalerTest.fit(X_test))\n",
        "print(scalerTest.fit(Y_test))\n",
        "Y_test = scalerTest.transform(Y_test)"
      ],
      "execution_count": 116,
      "outputs": [
        {
          "output_type": "stream",
          "text": [
            "Creating data:\n",
            "0\n",
            "100\n",
            "200\n",
            "MinMaxScaler(copy=True, feature_range=(0, 1))\n",
            "MinMaxScaler(copy=True, feature_range=(0, 1))\n"
          ],
          "name": "stdout"
        }
      ]
    },
    {
      "metadata": {
        "id": "RBUgt2fz6ldb",
        "colab_type": "code",
        "colab": {
          "base_uri": "https://localhost:8080/",
          "height": 51
        },
        "outputId": "bc67280b-2f4f-4494-a7a6-dae430775867"
      },
      "cell_type": "code",
      "source": [
        "model.evaluate(X_test, Y_test)"
      ],
      "execution_count": 117,
      "outputs": [
        {
          "output_type": "stream",
          "text": [
            "300/300 [==============================] - 1s 4ms/step\n"
          ],
          "name": "stdout"
        },
        {
          "output_type": "execute_result",
          "data": {
            "text/plain": [
              "[0.08431985825300217, 0.08431985825300217]"
            ]
          },
          "metadata": {
            "tags": []
          },
          "execution_count": 117
        }
      ]
    },
    {
      "metadata": {
        "id": "yQ7gKZDe6qR1",
        "colab_type": "code",
        "colab": {
          "base_uri": "https://localhost:8080/",
          "height": 238
        },
        "outputId": "714ebb7c-3823-4557-9e92-8a5389818cbf"
      },
      "cell_type": "code",
      "source": [
        "y_pred = model.predict(X_test)\n",
        "X_test"
      ],
      "execution_count": 121,
      "outputs": [
        {
          "output_type": "execute_result",
          "data": {
            "text/plain": [
              "array([[0.97971582, 0.98408924, 0.9952138 , ..., 0.96632057, 0.96371418,\n",
              "        0.99983144],\n",
              "       [0.980205  , 0.9494385 , 0.99064977, ..., 0.98630824, 0.94669241,\n",
              "        0.95031914],\n",
              "       [0.97088494, 0.99175157, 0.94548286, ..., 0.95201227, 0.98255148,\n",
              "        0.96649708],\n",
              "       ...,\n",
              "       [0.9523247 , 0.97840249, 0.93896908, ..., 0.98016863, 0.99638629,\n",
              "        0.95958723],\n",
              "       [0.93346973, 0.95200522, 0.93995049, ..., 0.95783797, 0.99963013,\n",
              "        0.96107242],\n",
              "       [0.98362736, 0.97104303, 0.96238696, ..., 0.95144482, 0.95233239,\n",
              "        0.99051286]])"
            ]
          },
          "metadata": {
            "tags": []
          },
          "execution_count": 121
        }
      ]
    },
    {
      "metadata": {
        "id": "xinvfKYj9L4x",
        "colab_type": "code",
        "colab": {}
      },
      "cell_type": "code",
      "source": [
        ""
      ],
      "execution_count": 0,
      "outputs": []
    }
  ]
}