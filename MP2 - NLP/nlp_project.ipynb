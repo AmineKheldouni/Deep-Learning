{
 "cells": [
  {
   "cell_type": "markdown",
   "metadata": {},
   "source": [
    "# Deep Learning for NLP - Project"
   ]
  },
  {
   "cell_type": "markdown",
   "metadata": {},
   "source": [
    "RULES:\n",
    "\n",
    "* Do not create any additional cell\n",
    "\n",
    "* Fill in the blanks\n",
    "\n",
    "* All cells should be runnable (modulo trivial compatibility bugs that we'd fix)\n",
    "\n",
    "* 4 / 20 points will be allocated to the clarity of your code\n",
    "\n",
    "* Efficient code will have a bonus\n",
    "\n",
    "DELIVERABLE:\n",
    "\n",
    "* this notebook\n",
    "* the predictions of the SST test set\n",
    "\n",
    "DO NOT INCLUDE THE DATASETS IN THE DELIVERABLE.."
   ]
  },
  {
   "cell_type": "code",
   "execution_count": 23,
   "metadata": {
    "collapsed": false
   },
   "outputs": [],
   "source": [
    "import io\n",
    "import os\n",
    "import numpy as np\n",
    "import scipy\n",
    "import scipy.linalg as slg\n",
    "import pandas\n",
    "from sklearn.linear_model import LogisticRegression, LogisticRegressionCV\n",
    "from sklearn.svm import SVC\n",
    "import matplotlib.pyplot as plt\n",
    "plt.style.use('ggplot')"
   ]
  },
  {
   "cell_type": "code",
   "execution_count": 24,
   "metadata": {
    "collapsed": false
   },
   "outputs": [],
   "source": [
    "PATH_TO_DATA = \"data/\""
   ]
  },
  {
   "cell_type": "markdown",
   "metadata": {},
   "source": [
    "# 1) Monolingual (English) word embeddings "
   ]
  },
  {
   "cell_type": "code",
   "execution_count": 25,
   "metadata": {
    "collapsed": true
   },
   "outputs": [],
   "source": [
    "class Word2vec():\n",
    "    def __init__(self, fname, nmax=100000):\n",
    "        self.load_wordvec(fname, nmax)\n",
    "        self.word2id = {w: i for i, w in enumerate(self.word2vec.keys())}\n",
    "        self.id2word = {i: w for w, i in self.word2id.items()}\n",
    "        self.embeddings = np.array(list(self.word2vec.values()))\n",
    "    \n",
    "    def load_wordvec(self, fname, nmax):\n",
    "        self.word2vec = {}\n",
    "        with io.open(fname, encoding='utf-8') as f:\n",
    "            next(f)\n",
    "            for i, line in enumerate(f):\n",
    "                word, vec = line.split(' ', 1)\n",
    "                self.word2vec[word] = np.fromstring(vec, sep=' ')\n",
    "                self.word2vec[word] /= np.linalg.norm(self.word2vec[word])\n",
    "                if i == (nmax - 1):\n",
    "                    break\n",
    "        print('Loaded %s pretrained word vectors' % (len(self.word2vec)))\n",
    "\n",
    "    def most_similar(self, w, K=5):\n",
    "        value_w = self.embeddings[self.word2id[w]]\n",
    "        sorted_score = np.argsort(self.embeddings.dot(value_w))[::-1]        \n",
    "        return [self.id2word[i] for i in sorted_score[1:K+1]]\n",
    "\n",
    "    def score(self, w1, w2):\n",
    "        value_w1 = self.embeddings[self.word2id[w1]]\n",
    "        value_w2 = self.embeddings[self.word2id[w2]]\n",
    "        return value_w1.T.dot(value_w2)\n"
   ]
  },
  {
   "cell_type": "code",
   "execution_count": 26,
   "metadata": {
    "collapsed": false
   },
   "outputs": [
    {
     "name": "stdout",
     "output_type": "stream",
     "text": [
      "Loaded 25000 pretrained word vectors\n",
      "cat dog 0.671683666279\n",
      "dog pet 0.684206402967\n",
      "dogs cats 0.707438932805\n",
      "Paris France 0.705859545241\n",
      "Germany Berlin 0.706025301534\n",
      "['cats', 'kitty', 'kitten', 'Cat', 'dog']\n",
      "['dogs', 'puppy', 'Dog', 'canine', 'pup']\n",
      "['dog', 'Dogs', 'puppies', 'cats', 'canine']\n",
      "['Parisian', 'France', 'Versailles', 'Lyon', 'Bordeaux']\n",
      "['Austria', 'Bavaria', 'Berlin', 'Munich', 'German']\n"
     ]
    }
   ],
   "source": [
    "w2v = Word2vec(os.path.join(PATH_TO_DATA, 'crawl-300d-200k.vec'), nmax=25000)\n",
    "\n",
    "# You will be evaluated on the output of the following:\n",
    "for w1, w2 in zip(('cat', 'dog', 'dogs', 'Paris', 'Germany'), ('dog', 'pet', 'cats', 'France', 'Berlin')):\n",
    "    print(w1, w2, w2v.score(w1, w2))\n",
    "for w1 in ['cat', 'dog', 'dogs', 'Paris', 'Germany']:\n",
    "    print(w2v.most_similar(w1))"
   ]
  },
  {
   "cell_type": "code",
   "execution_count": 27,
   "metadata": {
    "collapsed": false
   },
   "outputs": [],
   "source": [
    "class BoV():\n",
    "    def __init__(self, w2v):\n",
    "        self.w2v = w2v\n",
    "    \n",
    "    def encode(self, sentences, idf=False):\n",
    "        # takes a list of sentences, outputs a numpy array of sentence embeddings\n",
    "        sentemb = []\n",
    "        for sent in sentences:\n",
    "            if idf is False:\n",
    "                # mean of word vectors\n",
    "                mean = np.mean(np.array([w2v.embeddings[w2v.word2id[w]] for w in sent if w in self.w2v.word2vec]), \n",
    "                               axis=0)\n",
    "            else:\n",
    "                # idf-weighted mean of word vectors\n",
    "                mean = np.mean(np.array([idf[w] * w2v.embeddings[w2v.word2id[w]] for w in sent \n",
    "                                         if w in self.w2v.word2vec]),\n",
    "                               axis=0)\n",
    "            sentemb.append(mean / np.linalg.norm(mean))\n",
    "        return np.vstack(sentemb)\n",
    "\n",
    "    def most_similar(self, s, sentences, idf=False, K=5):\n",
    "        # get most similar sentences and **print** them\n",
    "        keys = self.encode(sentences, idf)\n",
    "        query = self.encode([s], idf)[0]\n",
    "        \n",
    "        scores = np.dot(keys, query)\n",
    "        sorted_score_idx = np.argsort(scores)[::-1]\n",
    "        \n",
    "        closest_sentences = []\n",
    "        for i in range(K):\n",
    "            closest_sentences.append(sentences[sorted_score_idx[i+1]])\n",
    "        \n",
    "        return closest_sentences\n",
    "\n",
    "    def score(self, s1, s2, idf=False):\n",
    "        # vectors are already normalized\n",
    "        vecs = self.encode([s1, s2], idf)\n",
    "        score = vecs[0].T.dot(vecs[1])\n",
    "        \n",
    "        print(\"Score: \", score)\n",
    "        return score\n",
    "    \n",
    "    def build_idf(self, sentences):\n",
    "        # build the idf dictionary: associate each word to its idf value\n",
    "        idf = {}\n",
    "        for sent in sentences:\n",
    "            for w in set(sent):\n",
    "                idf[w] = idf.get(w, 0) + 1\n",
    "                idf[w] = max(1, np.log10(len(sentences) / (idf[w])))\n",
    "        return idf"
   ]
  },
  {
   "cell_type": "code",
   "execution_count": 28,
   "metadata": {
    "collapsed": false
   },
   "outputs": [
    {
     "name": "stdout",
     "output_type": "stream",
     "text": [
      "Loaded 100000 pretrained word vectors\n",
      "Closest sentences from \"1 smiling african american boy .\" are ['an african american man smiling .', 'a little african american boy and girl looking up .', 'a girl in black hat holding an african american baby .', 'an afican american woman standing behind two small african american children .', 'african american woman putting braids in an adorable asian girls hair .']\n",
      "Score:  0.622450337033\n",
      "Closest sentences from \"1 smiling african american boy .\" are ['an african american man smiling .', 'a little african american boy and girl looking up .', 'a girl in black hat holding an african american baby .', 'an afican american woman standing behind two small african american children .', 'african american woman putting braids in an adorable asian girls hair .']\n",
      "Score:  0.62245269111\n"
     ]
    },
    {
     "data": {
      "text/plain": [
       "0.62245269111018731"
      ]
     },
     "execution_count": 28,
     "metadata": {},
     "output_type": "execute_result"
    }
   ],
   "source": [
    "w2v = Word2vec(os.path.join(PATH_TO_DATA, 'crawl-300d-200k.vec'))\n",
    "s2v = BoV(w2v)\n",
    "\n",
    "# Load sentences in \"PATH_TO_DATA/sentences.txt\"\n",
    "with open(os.path.join(PATH_TO_DATA, 'sentences.txt'), 'r') as f:\n",
    "    sentences = [s.split() for s in f.readlines()]\n",
    "    \n",
    "# You will be evaluated on the output of the following:\n",
    "closest_mean = s2v.most_similar(sentences[10], sentences, idf=False)  # BoV-mean\n",
    "print(\"Closest sentences from \\\"{}\\\" are {}\".format(' '.join(sentences[10]), [' '.join(s) for s in closest_mean]))\n",
    "s2v.score(sentences[7], sentences[13], idf=False)\n",
    "\n",
    "# Build idf scores for each word\n",
    "idf = s2v.build_idf(sentences)\n",
    "closest_idf = s2v.most_similar(sentences[10], sentences, idf=idf)  # BoV-mean-idf\n",
    "print(\"Closest sentences from \\\"{}\\\" are {}\".format(' '.join(sentences[10]), [' '.join(s) for s in closest_idf]))\n",
    "s2v.score(sentences[7], sentences[13], idf=idf)"
   ]
  },
  {
   "cell_type": "markdown",
   "metadata": {},
   "source": [
    "# 2) Multilingual (English-French) word embeddings"
   ]
  },
  {
   "cell_type": "markdown",
   "metadata": {},
   "source": [
    "Let's consider a bilingual dictionary of size V_a (e.g French-English).\n",
    "\n",
    "Let's define **X** and **Y** the **French** and **English** matrices.\n",
    "\n",
    "They contain the embeddings associated to the words in the bilingual dictionary.\n",
    "\n",
    "We want to find a **mapping W** that will project the source word space (e.g French) to the target word space (e.g English).\n",
    "\n",
    "Procrustes : **W\\* = argmin || W.X - Y ||  s.t  W^T.W = Id**\n",
    "has a closed form solution:\n",
    "**W = U.V^T  where  U.Sig.V^T = SVD(Y.X^T)**\n",
    "\n",
    "In what follows, you are asked to: "
   ]
  },
  {
   "cell_type": "code",
   "execution_count": 29,
   "metadata": {
    "collapsed": false
   },
   "outputs": [
    {
     "name": "stdout",
     "output_type": "stream",
     "text": [
      "Loaded 50000 pretrained word vectors\n",
      "Loaded 50000 pretrained word vectors\n"
     ]
    }
   ],
   "source": [
    "# 1 - Download and load 50k first vectors of\n",
    "#     https://s3-us-west-1.amazonaws.com/fasttext-vectors/wiki.en.vec\n",
    "#     https://s3-us-west-1.amazonaws.com/fasttext-vectors/wiki.fr.vec\n",
    "\n",
    "wv_fr = Word2vec(os.path.join(PATH_TO_DATA, 'wiki.fr.vec'), nmax=50000)\n",
    "wv_en = Word2vec(os.path.join(PATH_TO_DATA, 'wiki.en.vec'), nmax=50000)"
   ]
  },
  {
   "cell_type": "code",
   "execution_count": 30,
   "metadata": {
    "collapsed": false
   },
   "outputs": [],
   "source": [
    "# 2 - Get words that appear in both vocabs (= identical character strings)\n",
    "#     Use it to create the matrix X and Y (of aligned embeddings for these words)\n",
    "v = sorted(wv_fr.word2vec.keys() & wv_en.word2vec.keys())\n",
    "\n",
    "X = np.vstack([wv_fr.embeddings[wv_fr.word2id[w]] for w in v]).T\n",
    "\n",
    "Y = np.vstack([wv_en.embeddings[wv_en.word2id[w]] for w in v]).T"
   ]
  },
  {
   "cell_type": "code",
   "execution_count": 31,
   "metadata": {
    "collapsed": false
   },
   "outputs": [],
   "source": [
    "# 3 - Solve the Procrustes using the scipy package and: scipy.linalg.svd() and get the optimal W\n",
    "#     Now W*French_vector is in the same space as English_vector\n",
    "\n",
    "U, S, Vt = slg.svd(Y.dot(X.T))\n",
    "\n",
    "W = U.dot(Vt)"
   ]
  },
  {
   "cell_type": "code",
   "execution_count": 32,
   "metadata": {
    "collapsed": false
   },
   "outputs": [
    {
     "name": "stdout",
     "output_type": "stream",
     "text": [
      "chat:\n",
      "['cat', 'rabbit', 'feline', 'poodle', 'hamster', 'kittens', 'dog']\n",
      "cat:\n",
      "['cat', 'chat', 'dog', 'chats', 'chatte', 'chien', 'grizzly']\n",
      "###############################\n",
      "cheval:\n",
      "['horse', 'horses', 'cheval', 'horseman', 'dressage', 'hooves', 'horseback']\n",
      "horse:\n",
      "['horse', 'cheval', 'horses', 'galop', 'chevaux', 'attelage', 'attelé']\n",
      "###############################\n",
      "soleil:\n",
      "['sun', 'ecliptic', 'perihelion', 'soleil', 'solstice', 'luminosity', 'brightness']\n",
      "sun:\n",
      "['sun', 'soleil', 'moon', 'lune', 'astre', 'soleils', 'saturne']\n",
      "###############################\n",
      "poisson:\n",
      "['mackerel', 'fish', 'shrimp', 'lobster', 'eel', 'prawn', 'shark']\n",
      "fish:\n",
      "['poissons', 'fish', 'crevettes', 'crustacés', 'truites', 'poisson', 'escargots']\n",
      "###############################\n"
     ]
    }
   ],
   "source": [
    "# 4 - After alignment with W, give examples of English nearest neighbors of some French words (and vice versa)\n",
    "#     You will be evaluated on that part and the code above\n",
    "\n",
    "def nearest_neighbors_multilingual(input_wv, gt_output_wv, W, w, K = 7):\n",
    "\n",
    "    output_wv = np.dot(W, input_wv.embeddings[input_wv.word2id[w]])\n",
    "    scores = np.dot(gt_output_wv.embeddings, output_wv)\n",
    "    sorted_scores = np.argsort(scores)[::-1]\n",
    "\n",
    "    return [gt_output_wv.id2word[i] for i in sorted_scores[:K]]\n",
    "\n",
    "for word_fr,word_en in zip(['chat', 'cheval', 'soleil', 'poisson'], ['cat', 'horse', 'sun', 'fish']):\n",
    "    print(word_fr + ':')\n",
    "    print(nearest_neighbors_multilingual(wv_fr, wv_en, W, word_fr))\n",
    "    print(word_en + ':')\n",
    "    print(nearest_neighbors_multilingual(wv_en, wv_fr, W.T, word_en))\n",
    "    print('###############################')"
   ]
  },
  {
   "cell_type": "markdown",
   "metadata": {},
   "source": [
    "If you want to dive deeper on this subject: https://github.com/facebookresearch/MUSE"
   ]
  },
  {
   "cell_type": "markdown",
   "metadata": {},
   "source": [
    "# 3) Sentence classification with BoV and scikit-learn"
   ]
  },
  {
   "cell_type": "code",
   "execution_count": 7,
   "metadata": {
    "collapsed": false
   },
   "outputs": [],
   "source": [
    "# 1 - Load train/dev/test of Stanford Sentiment TreeBank (SST)\n",
    "#     (https://nlp.stanford.edu/~socherr/EMNLP2013_RNTN.pdf)\n",
    "\n",
    "def load_sst(filename, given_labels=True):\n",
    "    X, y = [], []\n",
    "    with open(filename, 'r') as file:\n",
    "        for row in file.readlines():\n",
    "            if given_labels:\n",
    "                label, sentence = row.split(' ', 1)\n",
    "                y.append(int(label))\n",
    "            else:\n",
    "                sentence = row\n",
    "            X.append(sentence.split())\n",
    "    if not given_labels:\n",
    "        return X\n",
    "    return X,y\n",
    "\n",
    "X_train, y_train = load_sst(os.path.join(PATH_TO_DATA, 'SST', 'stsa.fine.train'))\n",
    "X_dev, y_dev = load_sst(os.path.join(PATH_TO_DATA, 'SST', 'stsa.fine.dev'))\n",
    "X_test = load_sst(os.path.join(PATH_TO_DATA, 'SST', 'stsa.fine.test.X'), given_labels=False)\n"
   ]
  },
  {
   "cell_type": "code",
   "execution_count": 8,
   "metadata": {
    "collapsed": false
   },
   "outputs": [],
   "source": [
    "# 2 - Encode sentences with the BoV model above\n",
    "X_train_avg = s2v.encode(X_train)\n",
    "X_dev_avg = s2v.encode(X_dev)\n",
    "X_test_avg = s2v.encode(X_test)\n",
    "\n",
    "X_train_idf = s2v.encode(X_train, idf=s2v.build_idf(X_train))\n",
    "X_dev_idf = s2v.encode(X_dev, idf=s2v.build_idf(X_dev))\n",
    "X_test_idf = s2v.encode(X_test, idf=s2v.build_idf(X_test))"
   ]
  },
  {
   "cell_type": "code",
   "execution_count": 9,
   "metadata": {
    "collapsed": false
   },
   "outputs": [
    {
     "name": "stdout",
     "output_type": "stream",
     "text": [
      "Score train:  0.498127340824\n",
      "Score dev:  0.437783832879\n",
      "Score train:  0.493328651685\n",
      "Score dev:  0.435059037239\n"
     ]
    }
   ],
   "source": [
    "# 3 - Learn Logistic Regression on top of sentence embeddings using scikit-learn\n",
    "#     (consider tuning the L2 regularization on the dev set)\n",
    "lbd = 0.003\n",
    "\n",
    "### Mean Average ###\n",
    "model_avg = LogisticRegressionCV(Cs=int(1./lbd), cv=3, random_state=42, multi_class='multinomial', solver='lbfgs', max_iter=500)\n",
    "model_avg.fit(X_train_avg, y_train)\n",
    "\n",
    "print(\"Score train: \", model_avg.score(X_train_avg, y_train))\n",
    "print(\"Score dev: \", model_avg.score(X_dev_avg, y_dev))\n",
    "\n",
    "### Weighted Average ###\n",
    "model_weighted = LogisticRegressionCV(Cs=int(1./lbd), cv=3, random_state=42, multi_class='multinomial', solver='lbfgs', max_iter=500)\n",
    "model_weighted.fit(X_train_idf, y_train)\n",
    "\n",
    "print(\"Score train: \", model_weighted.score(X_train_idf, y_train))\n",
    "print(\"Score dev: \", model_weighted.score(X_dev_idf, y_dev))"
   ]
  },
  {
   "cell_type": "code",
   "execution_count": 10,
   "metadata": {
    "collapsed": false
   },
   "outputs": [],
   "source": [
    "# 4 - Produce 2210 predictions for the test set (in the same order). One line = one prediction (=0,1,2,3,4).\n",
    "#     Attach the output file \"logreg_bov_y_test_sst.txt\" to your deliverable.\n",
    "#     You will be evaluated on the results of the test set.\n",
    "\n",
    "# Writing the output predictions for test dataset\n",
    "predictions = model_avg.predict(X_test_avg)\n",
    "with open('logreg_bov_y_test_sst.txt', 'w') as f:\n",
    "    for i in range(len(predictions)):\n",
    "        f.write(str(predictions[i]))\n",
    "        if i != len(predictions)-1:\n",
    "            f.write('\\n')"
   ]
  },
  {
   "cell_type": "code",
   "execution_count": 11,
   "metadata": {
    "collapsed": false
   },
   "outputs": [
    {
     "name": "stdout",
     "output_type": "stream",
     "text": [
      "accuracy:  0.425068119891\n"
     ]
    }
   ],
   "source": [
    "# BONUS!\n",
    "# 5 - Try to improve performance with another classifier\n",
    "#     Attach the output file \"XXX_bov_y_test_sst.txt\" to your deliverable (where XXX = the name of the classifier)\n",
    "\n",
    "improved_model = SVC(C = 300)\n",
    "\n",
    "improved_model.fit(X_train_avg, y_train)\n",
    "\n",
    "\n",
    "# Validation dataset\n",
    "dev_predictions = improved_model.predict(X_dev_avg)\n",
    "print(\"accuracy: \", improved_model.score(X_dev_avg, y_dev))\n",
    "\n",
    "improved_predictions = improved_model.predict(X_test_avg)\n",
    "\n",
    "with open('XXX_bov_y_test_sst.txt', 'w') as f:\n",
    "    for i in range(len(improved_predictions)):\n",
    "        f.write(str(improved_predictions[i]))\n",
    "        if i != len(improved_predictions)-1:\n",
    "            f.write('\\n')"
   ]
  },
  {
   "cell_type": "markdown",
   "metadata": {},
   "source": [
    "# 4) Sentence classification with LSTMs in Keras"
   ]
  },
  {
   "cell_type": "markdown",
   "metadata": {},
   "source": [
    "## 4.1 - Preprocessing"
   ]
  },
  {
   "cell_type": "code",
   "execution_count": 13,
   "metadata": {
    "collapsed": false
   },
   "outputs": [],
   "source": [
    "import keras"
   ]
  },
  {
   "cell_type": "code",
   "execution_count": 14,
   "metadata": {
    "collapsed": true
   },
   "outputs": [],
   "source": [
    "# 1 - Load train/dev/test sets of SST\n",
    "PATH_TO_DATA = \"./data/\"\n",
    "\n",
    "def load_sst(filename, given_labels=True):\n",
    "    X, y = [], []\n",
    "    with open(filename, 'r') as file:\n",
    "        for row in file.readlines():\n",
    "            if given_labels:\n",
    "                label, sentence = row.split(' ', 1)\n",
    "                y.append(int(label))\n",
    "            else:\n",
    "                sentence = row\n",
    "            X.append(sentence.strip())\n",
    "    if not given_labels:\n",
    "        return X\n",
    "    return X,y\n",
    "\n",
    "X_train, y_train = load_sst(os.path.join(PATH_TO_DATA, 'SST', 'stsa.fine.train'))\n",
    "X_dev, y_dev = load_sst(os.path.join(PATH_TO_DATA, 'SST', 'stsa.fine.dev'))\n",
    "X_test = load_sst(os.path.join(PATH_TO_DATA, 'SST', 'stsa.fine.test.X'), given_labels=False)"
   ]
  },
  {
   "cell_type": "code",
   "execution_count": 15,
   "metadata": {
    "collapsed": false
   },
   "outputs": [],
   "source": [
    "# 2 - Transform text to integers using keras.preprocessing.text.one_hot function\n",
    "#     https://keras.io/preprocessing/text/\n",
    "\n",
    "n = 5000\n",
    "Xp_train = [keras.preprocessing.text.one_hot(s, n) for s in X_train]\n",
    "Xp_dev = [keras.preprocessing.text.one_hot(s, n) for s in X_dev]\n",
    "Xp_test = [keras.preprocessing.text.one_hot(s, n) for s in X_test]\n"
   ]
  },
  {
   "cell_type": "markdown",
   "metadata": {},
   "source": [
    "**Padding input data**\n",
    "\n",
    "Models in Keras (and elsewhere) take batches of sentences of the same length as input. It is because Deep Learning framework have been designed to handle well Tensors, which are particularly suited for fast computation on the GPU.\n",
    "\n",
    "Since sentences have different sizes, we \"pad\" them. That is, we add dummy \"padding\" tokens so that they all have the same length.\n",
    "\n",
    "The input to a Keras model thus has this size : (batchsize, maxseqlen) where maxseqlen is the maximum length of a sentence in the batch."
   ]
  },
  {
   "cell_type": "code",
   "execution_count": 16,
   "metadata": {
    "collapsed": true
   },
   "outputs": [],
   "source": [
    "# 3 - Pad your sequences using keras.preprocessing.sequence.pad_sequences\n",
    "#     https://keras.io/preprocessing/sequence/\n",
    "\n",
    "Xp_train = keras.preprocessing.sequence.pad_sequences(Xp_train)\n",
    "Xp_dev = keras.preprocessing.sequence.pad_sequences(Xp_dev)\n",
    "Xp_test = keras.preprocessing.sequence.pad_sequences(Xp_test)"
   ]
  },
  {
   "cell_type": "markdown",
   "metadata": {},
   "source": [
    "## 4.2 - Design and train your model"
   ]
  },
  {
   "cell_type": "code",
   "execution_count": 17,
   "metadata": {
    "collapsed": false
   },
   "outputs": [],
   "source": [
    "# 4 - Design your encoder + classifier using keras.layers\n",
    "#     In Keras, Torch and other deep learning framework, we create a \"container\" which is the Sequential() module.\n",
    "#     Then we add components to this contained : the lookuptable, the LSTM, the classifier etc.\n",
    "#     All of these components are contained in the Sequential() and are trained together.\n",
    "\n",
    "def plot_history(history):\n",
    "    acc = history.history['acc']\n",
    "    val_acc = history.history['val_acc']\n",
    "    loss = history.history['loss']\n",
    "    val_loss = history.history['val_loss']\n",
    "    x = range(1, len(acc) + 1)\n",
    "\n",
    "    plt.figure(figsize=(12, 5))\n",
    "    plt.subplot(1, 2, 1)\n",
    "    plt.plot(x, acc, 'b', label='Training acc')\n",
    "    plt.plot(x, val_acc, 'r', label='Validation acc')\n",
    "    plt.title('Training and validation accuracy')\n",
    "    plt.legend()\n",
    "    plt.subplot(1, 2, 2)\n",
    "    plt.plot(x, loss, 'b', label='Training loss')\n",
    "    plt.plot(x, val_loss, 'r', label='Validation loss')\n",
    "    plt.title('Training and validation loss')\n",
    "    plt.legend()\n",
    "    plt.show()\n",
    "    \n",
    "from keras.models import Sequential\n",
    "from keras.layers import Embedding, LSTM, Dense, Activation\n",
    "\n",
    "embed_dim  = 32  # word embedding dimension\n",
    "nhid       = 64  # number of hidden units in the LSTM\n",
    "vocab_size = n  # size of the vocabulary\n",
    "n_classes  = 5\n",
    "\n",
    "model = Sequential()\n",
    "model.add(Embedding(vocab_size, embed_dim))\n",
    "model.add(LSTM(nhid, dropout=0.2, recurrent_dropout=0.2))\n",
    "model.add(Dense(n_classes, activation='softmax'))\n"
   ]
  },
  {
   "cell_type": "code",
   "execution_count": 18,
   "metadata": {
    "collapsed": false
   },
   "outputs": [
    {
     "name": "stdout",
     "output_type": "stream",
     "text": [
      "_________________________________________________________________\n",
      "Layer (type)                 Output Shape              Param #   \n",
      "=================================================================\n",
      "embedding_3 (Embedding)      (None, None, 32)          160000    \n",
      "_________________________________________________________________\n",
      "lstm_2 (LSTM)                (None, 64)                24832     \n",
      "_________________________________________________________________\n",
      "dense_4 (Dense)              (None, 5)                 325       \n",
      "=================================================================\n",
      "Total params: 185,157\n",
      "Trainable params: 185,157\n",
      "Non-trainable params: 0\n",
      "_________________________________________________________________\n",
      "None\n"
     ]
    }
   ],
   "source": [
    "# 5 - Define your loss/optimizer/metrics\n",
    "\n",
    "\n",
    "loss_classif     =  'categorical_crossentropy' # find the right loss for multi-class classification\n",
    "optimizer        =  'adam' # find the right optimizer\n",
    "metrics_classif  =  ['accuracy']\n",
    "\n",
    "# Observe how easy (but blackboxed) this is in Keras\n",
    "model.compile(loss=loss_classif,\n",
    "              optimizer=optimizer,\n",
    "              metrics=metrics_classif)\n",
    "print(model.summary())"
   ]
  },
  {
   "cell_type": "code",
   "execution_count": 60,
   "metadata": {
    "collapsed": false
   },
   "outputs": [
    {
     "name": "stderr",
     "output_type": "stream",
     "text": [
      "/home/amine/miniconda3/lib/python3.5/site-packages/keras/models.py:981: UserWarning: The `nb_epoch` argument in `fit` has been renamed `epochs`.\n",
      "  warnings.warn('The `nb_epoch` argument in `fit` '\n"
     ]
    },
    {
     "name": "stdout",
     "output_type": "stream",
     "text": [
      "Train on 8544 samples, validate on 1101 samples\n",
      "Epoch 1/5\n",
      " - 124s - loss: 0.8745 - acc: 0.6608 - val_loss: 1.7433 - val_acc: 0.3333\n",
      "Epoch 2/5\n",
      " - 123s - loss: 0.7042 - acc: 0.7362 - val_loss: 2.0240 - val_acc: 0.3451\n",
      "Epoch 3/5\n",
      " - 113s - loss: 0.5965 - acc: 0.7773 - val_loss: 2.1668 - val_acc: 0.3497\n",
      "Epoch 4/5\n",
      " - 136s - loss: 0.5370 - acc: 0.8010 - val_loss: 2.3868 - val_acc: 0.3515\n",
      "Epoch 5/5\n",
      " - 118s - loss: 0.4720 - acc: 0.8277 - val_loss: 2.4786 - val_acc: 0.3497\n",
      "Training Accuracy: 0.9170\n",
      "Testing Accuracy:  0.3497\n"
     ]
    },
    {
     "data": {
      "image/png": "[encoded data removed]",
      "text/plain": [
       "<Figure size 864x360 with 2 Axes>"
      ]
     },
     "metadata": {},
     "output_type": "display_data"
    }
   ],
   "source": [
    "# 6 - Train your model and find the best hyperparameters for your dev set\n",
    "#     you will be evaluated on the quality of your predictions on the test set\n",
    "\n",
    "bs = 8\n",
    "n_epochs = 5\n",
    "\n",
    "yp_train = keras.utils.to_categorical(y_train, num_classes=n_classes)\n",
    "yp_dev = keras.utils.to_categorical(y_dev, num_classes=n_classes)\n",
    "\n",
    "history = model.fit(Xp_train, yp_train, batch_size=bs, nb_epoch=n_epochs, validation_data=(Xp_dev, yp_dev), verbose=2)\n",
    "\n",
    "loss, accuracy = model.evaluate(Xp_train, yp_train, verbose=False)\n",
    "print(\"Training Accuracy: {:.4f}\".format(accuracy))\n",
    "loss, accuracy = model.evaluate(Xp_dev, yp_dev, verbose=False)\n",
    "print(\"Testing Accuracy:  {:.4f}\".format(accuracy))\n",
    "plot_history(history)"
   ]
  },
  {
   "cell_type": "code",
   "execution_count": 62,
   "metadata": {
    "collapsed": false
   },
   "outputs": [],
   "source": [
    "# 7 - Generate your predictions on the test set using model.predict(x_test)\n",
    "#     https://keras.io/models/model/\n",
    "#     Log your predictions in a file (one line = one integer: 0,1,2,3,4)\n",
    "#     Attach the output file \"logreg_lstm_y_test_sst.txt\" to your deliverable.\n",
    "\n",
    "predictions = model.predict(Xp_test)\n",
    "\n",
    "with open('logreg_lstm_y_test_sst.txt', 'w') as f:\n",
    "    for i in range(len(predictions)):\n",
    "        f.write(str(np.argmax(predictions[i])))\n",
    "        if i != len(improved_predictions)-1:\n",
    "            f.write('\\n')"
   ]
  },
  {
   "cell_type": "markdown",
   "metadata": {},
   "source": [
    "## 4.3 -- innovate !"
   ]
  },
  {
   "cell_type": "code",
   "execution_count": 33,
   "metadata": {
    "collapsed": false
   },
   "outputs": [
    {
     "name": "stdout",
     "output_type": "stream",
     "text": [
      "_________________________________________________________________\n",
      "Layer (type)                 Output Shape              Param #   \n",
      "=================================================================\n",
      "embedding_8 (Embedding)      (None, None, 300)         1500000   \n",
      "_________________________________________________________________\n",
      "conv1d_11 (Conv1D)           (None, None, 64)          134464    \n",
      "_________________________________________________________________\n",
      "max_pooling1d_6 (MaxPooling1 (None, None, 64)          0         \n",
      "_________________________________________________________________\n",
      "conv1d_12 (Conv1D)           (None, None, 64)          28736     \n",
      "_________________________________________________________________\n",
      "global_max_pooling1d_6 (Glob (None, 64)                0         \n",
      "_________________________________________________________________\n",
      "dropout_6 (Dropout)          (None, 64)                0         \n",
      "_________________________________________________________________\n",
      "dense_13 (Dense)             (None, 32)                2080      \n",
      "_________________________________________________________________\n",
      "dense_14 (Dense)             (None, 5)                 165       \n",
      "=================================================================\n",
      "Total params: 1,665,445\n",
      "Trainable params: 165,445\n",
      "Non-trainable params: 1,500,000\n",
      "_________________________________________________________________\n",
      "None\n",
      "Train on 8544 samples, validate on 1101 samples\n",
      "Epoch 1/10\n",
      " - 12s - loss: 1.6062 - acc: 0.2691 - val_loss: 1.5915 - val_acc: 0.2534\n",
      "Epoch 2/10\n",
      " - 7s - loss: 1.5764 - acc: 0.2688 - val_loss: 1.5680 - val_acc: 0.2589\n",
      "Epoch 3/10\n",
      " - 7s - loss: 1.5478 - acc: 0.2889 - val_loss: 1.5454 - val_acc: 0.3134\n",
      "Epoch 4/10\n",
      " - 7s - loss: 1.4984 - acc: 0.3136 - val_loss: 1.5268 - val_acc: 0.3206\n",
      "Epoch 5/10\n",
      " - 8s - loss: 1.4320 - acc: 0.3556 - val_loss: 1.5550 - val_acc: 0.3197\n",
      "Epoch 6/10\n",
      " - 8s - loss: 1.3350 - acc: 0.4026 - val_loss: 1.6261 - val_acc: 0.3270\n",
      "Epoch 7/10\n",
      " - 8s - loss: 1.1949 - acc: 0.4779 - val_loss: 1.6926 - val_acc: 0.3442\n",
      "Epoch 8/10\n",
      " - 7s - loss: 1.0425 - acc: 0.5419 - val_loss: 1.9278 - val_acc: 0.3152\n",
      "Epoch 9/10\n",
      " - 7s - loss: 0.8982 - acc: 0.6163 - val_loss: 2.1268 - val_acc: 0.3261\n",
      "Epoch 10/10\n",
      " - 9s - loss: 0.7690 - acc: 0.6759 - val_loss: 2.4183 - val_acc: 0.3279\n",
      "Training Accuracy: 0.7732\n",
      "Testing Accuracy:  0.3279\n"
     ]
    },
    {
     "data": {
      "image/png": "[encoded data removed]",
      "text/plain": [
       "<Figure size 864x360 with 2 Axes>"
      ]
     },
     "metadata": {},
     "output_type": "display_data"
    }
   ],
   "source": [
    "# 8 - Open question: find a model that is better on your dev set\n",
    "#     (e.g: use a 1D ConvNet, use a better classifier, pretrain your lookup tables ..)\n",
    "#     you will get point if the results on the test set are better: be careful of not overfitting your dev set too much..\n",
    "#     Attach the output file \"XXX_XXX_y_test_sst.txt\" to your deliverable.\n",
    "import matplotlib.pyplot as plt\n",
    "import keras.layers as layers\n",
    "plt.style.use('ggplot')\n",
    "\n",
    "from keras.models import Sequential\n",
    "from keras import regularizers\n",
    "\n",
    "embed_dim  = 300  # word embedding dimension\n",
    "nhid       = 128  # number of hidden units in the LSTM\n",
    "n_classes  = 5\n",
    "embedding_dim = 100\n",
    "vocab_size = n  # size of the vocabulary\n",
    "\n",
    "model = Sequential()\n",
    "\n",
    "model.add(layers.Embedding(n, embed_dim, trainable=False))\n",
    "model.add(layers.Conv1D(64, 7, activation='relu', padding='same'))\n",
    "model.add(layers.MaxPooling1D(2))\n",
    "model.add(layers.Conv1D(64, 7, activation='relu', padding='same'))\n",
    "model.add(layers.GlobalMaxPooling1D())\n",
    "model.add(layers.Dropout(0.5))\n",
    "model.add(layers.Dense(32, activation='relu', kernel_regularizer=regularizers.l2(10e-4)))\n",
    "model.add(layers.Dense(n_classes, activation='sigmoid'))  #multi-label (k-hot encoding)\n",
    "\n",
    "\n",
    "loss_classif     =  'categorical_crossentropy' # find the right loss for multi-class classification\n",
    "optimizer        =  'adam' # find the right optimizer\n",
    "metrics_classif  =  ['accuracy']\n",
    "\n",
    "# Observe how easy (but blackboxed) this is in Keras\n",
    "model.compile(loss=loss_classif,\n",
    "              optimizer=optimizer,\n",
    "              metrics=metrics_classif)\n",
    "print(model.summary())\n",
    "\n",
    "bs = 64\n",
    "n_epochs = 10\n",
    "\n",
    "yp_train = keras.utils.to_categorical(y_train, num_classes=n_classes)\n",
    "yp_dev = keras.utils.to_categorical(y_dev, num_classes=n_classes)\n",
    "\n",
    "history = model.fit(Xp_train, yp_train,\n",
    "                    epochs=n_epochs,\n",
    "                    verbose=2,\n",
    "                    validation_data=(Xp_dev, yp_dev),\n",
    "                    batch_size=bs)\n",
    "loss, accuracy = model.evaluate(Xp_train, yp_train, verbose=False)\n",
    "print(\"Training Accuracy: {:.4f}\".format(accuracy))\n",
    "loss, accuracy = model.evaluate(Xp_dev, yp_dev, verbose=False)\n",
    "print(\"Testing Accuracy:  {:.4f}\".format(accuracy))\n",
    "plot_history(history)\n",
    "\n",
    "predictions = model.predict(Xp_test)\n",
    "\n",
    "with open('XXX_XXX_y_test_sst.txt', 'w') as f:\n",
    "    for i in range(len(predictions)):\n",
    "        f.write(str(np.argmax(predictions[i])))\n",
    "        if i != len(predictions)-1:\n",
    "            f.write('\\n')"
   ]
  },
  {
   "cell_type": "code",
   "execution_count": null,
   "metadata": {
    "collapsed": true
   },
   "outputs": [],
   "source": []
  }
 ],
 "metadata": {
  "kernelspec": {
   "display_name": "Python 3",
   "language": "python",
   "name": "python3"
  },
  "language_info": {
   "codemirror_mode": {
    "name": "ipython",
    "version": 3
   },
   "file_extension": ".py",
   "mimetype": "text/x-python",
   "name": "python",
   "nbconvert_exporter": "python",
   "pygments_lexer": "ipython3",
   "version": "3.5.4"
  }
 },
 "nbformat": 4,
 "nbformat_minor": 0
}
